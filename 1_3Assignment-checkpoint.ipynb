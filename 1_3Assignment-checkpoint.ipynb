{
 "cells": [
  {
   "cell_type": "code",
   "execution_count": 1,
   "id": "5ff8d046-f6fb-4bae-9e83-6c65d1d68c49",
   "metadata": {},
   "outputs": [],
   "source": [
    "import pandas as pd\n",
    "import matplotlib.pyplot as plt\n",
    "import seaborn as sns\n",
    "import numpy as np"
   ]
  },
  {
   "cell_type": "code",
   "execution_count": 2,
   "id": "702ee8d3-b131-4ff0-bb49-315602d42b3f",
   "metadata": {},
   "outputs": [
    {
     "name": "stdout",
     "output_type": "stream",
     "text": [
      "Dataset shape: (953, 24)\n",
      "\n",
      "First few rows:\n",
      "                            track_name    artist(s)_name  artist_count  \\\n",
      "0  Seven (feat. Latto) (Explicit Ver.)  Latto, Jung Kook             2   \n",
      "1                                 LALA       Myke Towers             1   \n",
      "2                              vampire    Olivia Rodrigo             1   \n",
      "3                         Cruel Summer      Taylor Swift             1   \n",
      "4                       WHERE SHE GOES         Bad Bunny             1   \n",
      "\n",
      "   released_year  released_month  released_day  in_spotify_playlists  \\\n",
      "0           2023               7            14                   553   \n",
      "1           2023               3            23                  1474   \n",
      "2           2023               6            30                  1397   \n",
      "3           2019               8            23                  7858   \n",
      "4           2023               5            18                  3133   \n",
      "\n",
      "   in_spotify_charts    streams  in_apple_playlists  ...  bpm key   mode  \\\n",
      "0                147  141381703                  43  ...  125   B  Major   \n",
      "1                 48  133716286                  48  ...   92  C#  Major   \n",
      "2                113  140003974                  94  ...  138   F  Major   \n",
      "3                100  800840817                 116  ...  170   A  Major   \n",
      "4                 50  303236322                  84  ...  144   A  Minor   \n",
      "\n",
      "  danceability_%  valence_% energy_% acousticness_%  instrumentalness_%  \\\n",
      "0             80         89       83             31                   0   \n",
      "1             71         61       74              7                   0   \n",
      "2             51         32       53             17                   0   \n",
      "3             55         58       72             11                   0   \n",
      "4             65         23       80             14                  63   \n",
      "\n",
      "   liveness_%  speechiness_%  \n",
      "0           8              4  \n",
      "1          10              4  \n",
      "2          31              6  \n",
      "3          11             15  \n",
      "4          11              6  \n",
      "\n",
      "[5 rows x 24 columns]\n"
     ]
    }
   ],
   "source": [
    "# Load the Spotify data\n",
    "# Option 1: Use the full file path\n",
    "df = pd.read_csv(r'C:\\Users\\jacob\\Desktop\\Anaconda\\Data_Visualization_And_Modeling-main\\Data_Visualization_And_Modeling-main\\Lab\\spotify-2023.csv', encoding='ISO-8859-1')\n",
    "\n",
    "# Option 2: If you want to change the working directory first (alternative approach)\n",
    "# import os\n",
    "# os.chdir(r'C:\\Users\\jacob\\Desktop\\Anaconda\\Data_Visualization_And_Modeling-main\\Data_Visualization_And_Modeling-main\\Lab')\n",
    "# df = pd.read_csv('spotify-2023.csv', encoding='ISO-8859-1')\n",
    "\n",
    "print(\"Dataset shape:\", df.shape)\n",
    "print(\"\\nFirst few rows:\")\n",
    "print(df.head())"
   ]
  },
  {
   "cell_type": "code",
   "execution_count": 3,
   "id": "4b9de02d-35e8-41b6-86f1-6bde68e0f346",
   "metadata": {},
   "outputs": [
    {
     "data": {
      "text/plain": [
       "<Figure size 2000x1500 with 0 Axes>"
      ]
     },
     "metadata": {},
     "output_type": "display_data"
    }
   ],
   "source": [
    "# =============================================================================\n",
    "# STEP 1: VISUALIZE AND DESCRIBE DISTRIBUTIONS\n",
    "# =============================================================================\n",
    "\n",
    "# Set up the plotting style\n",
    "plt.style.use('default')\n",
    "fig = plt.figure(figsize=(20, 15))"
   ]
  },
  {
   "cell_type": "code",
   "execution_count": 4,
   "id": "402a8e38-0d12-4be4-9ffb-4c6eceb7d3cb",
   "metadata": {},
   "outputs": [
    {
     "name": "stdout",
     "output_type": "stream",
     "text": [
      "\n",
      "BPM Statistics:\n",
      "Mean: 122.5\n",
      "Median: 121.0\n",
      "Mode: 120\n",
      "Most common range: 111-131\n"
     ]
    },
    {
     "data": {
      "image/png": "[encoded data removed]",
      "text/plain": [
       "<Figure size 640x480 with 1 Axes>"
      ]
     },
     "metadata": {},
     "output_type": "display_data"
    }
   ],
   "source": [
    "# 1. BPM Distribution\n",
    "plt.subplot(3, 3, 1)\n",
    "plt.hist(df['bpm'], bins=30, color='skyblue', alpha=0.7, edgecolor='black')\n",
    "plt.title('BPM Distribution')\n",
    "plt.xlabel('BPM')\n",
    "plt.ylabel('Frequency')\n",
    "plt.grid(True, alpha=0.3)\n",
    "\n",
    "# Calculate BPM statistics\n",
    "bpm_mean = df['bpm'].mean()\n",
    "bpm_median = df['bpm'].median()\n",
    "bpm_mode = df['bpm'].mode()[0]\n",
    "print(f\"\\nBPM Statistics:\")\n",
    "print(f\"Mean: {bpm_mean:.1f}\")\n",
    "print(f\"Median: {bpm_median:.1f}\")\n",
    "print(f\"Mode: {bpm_mode}\")\n",
    "print(f\"Most common range: {bpm_median-10:.0f}-{bpm_median+10:.0f}\")"
   ]
  },
  {
   "cell_type": "code",
   "execution_count": 5,
   "id": "92918a8f-932c-42de-add6-e9b7a4bbf383",
   "metadata": {},
   "outputs": [
    {
     "name": "stdout",
     "output_type": "stream",
     "text": [
      "\n",
      "Key Statistics:\n",
      "Most common key: C#\n",
      "Key frequencies:\n",
      "key\n",
      "C#    120\n",
      "G      96\n",
      "G#     91\n",
      "F      89\n",
      "B      81\n",
      "D      81\n",
      "A      75\n",
      "F#     73\n",
      "E      62\n",
      "A#     57\n",
      "D#     33\n",
      "Name: count, dtype: int64\n"
     ]
    },
    {
     "data": {
      "image/png": "[encoded data removed]",
      "text/plain": [
       "<Figure size 640x480 with 1 Axes>"
      ]
     },
     "metadata": {},
     "output_type": "display_data"
    }
   ],
   "source": [
    "# 2. Key Distribution\n",
    "plt.subplot(3, 3, 2)\n",
    "key_counts = df['key'].value_counts()\n",
    "key_counts.plot(kind='bar', color='lightcoral')\n",
    "plt.title('Key Distribution')\n",
    "plt.xlabel('Musical Key')\n",
    "plt.ylabel('Frequency')\n",
    "plt.xticks(rotation=45)\n",
    "plt.grid(True, alpha=0.3)\n",
    "\n",
    "most_common_key = key_counts.index[0]\n",
    "print(f\"\\nKey Statistics:\")\n",
    "print(f\"Most common key: {most_common_key}\")\n",
    "print(f\"Key frequencies:\\n{key_counts}\")"
   ]
  },
  {
   "cell_type": "code",
   "execution_count": 6,
   "id": "0568818b-b991-4bca-897e-89149b8b1efc",
   "metadata": {},
   "outputs": [
    {
     "name": "stdout",
     "output_type": "stream",
     "text": [
      "\n",
      "Mode Statistics:\n",
      "Most common mode: Major\n",
      "Mode percentages:\n",
      "mode\n",
      "Major    57.712487\n",
      "Minor    42.287513\n",
      "Name: count, dtype: float64\n"
     ]
    },
    {
     "data": {
      "image/png": "[encoded data removed]",
      "text/plain": [
       "<Figure size 640x480 with 1 Axes>"
      ]
     },
     "metadata": {},
     "output_type": "display_data"
    }
   ],
   "source": [
    "# 3. Mode Distribution\n",
    "plt.subplot(3, 3, 3)\n",
    "mode_counts = df['mode'].value_counts()\n",
    "colors = ['gold', 'lightblue']\n",
    "mode_counts.plot(kind='pie', autopct='%1.1f%%', colors=colors)\n",
    "plt.title('Mode Distribution')\n",
    "plt.ylabel('')\n",
    "\n",
    "most_common_mode = mode_counts.index[0]\n",
    "print(f\"\\nMode Statistics:\")\n",
    "print(f\"Most common mode: {most_common_mode}\")\n",
    "print(f\"Mode percentages:\\n{mode_counts/len(df)*100}\")"
   ]
  },
  {
   "cell_type": "code",
   "execution_count": 7,
   "id": "12d8f05d-85ff-451b-b33d-25791d68935a",
   "metadata": {},
   "outputs": [
    {
     "name": "stdout",
     "output_type": "stream",
     "text": [
      "\n",
      "Danceability Statistics:\n",
      "Mean: 67.0%\n",
      "Median: 69.0%\n"
     ]
    },
    {
     "data": {
      "image/png": "[encoded data removed]",
      "text/plain": [
       "<Figure size 640x480 with 1 Axes>"
      ]
     },
     "metadata": {},
     "output_type": "display_data"
    }
   ],
   "source": [
    "# 4. Danceability Distribution\n",
    "plt.subplot(3, 3, 4)\n",
    "plt.hist(df['danceability_%'], bins=20, color='lightgreen', alpha=0.7, edgecolor='black')\n",
    "plt.title('Danceability Distribution')\n",
    "plt.xlabel('Danceability %')\n",
    "plt.ylabel('Frequency')\n",
    "plt.grid(True, alpha=0.3)\n",
    "\n",
    "dance_mean = df['danceability_%'].mean()\n",
    "dance_median = df['danceability_%'].median()\n",
    "print(f\"\\nDanceability Statistics:\")\n",
    "print(f\"Mean: {dance_mean:.1f}%\")\n",
    "print(f\"Median: {dance_median:.1f}%\")"
   ]
  },
  {
   "cell_type": "code",
   "execution_count": 8,
   "id": "01a76002-70f1-478b-85ab-241f0b17c50f",
   "metadata": {},
   "outputs": [
    {
     "name": "stdout",
     "output_type": "stream",
     "text": [
      "\n",
      "Energy Statistics:\n",
      "Mean: 64.3%\n",
      "Median: 66.0%\n"
     ]
    },
    {
     "data": {
      "image/png": "[encoded data removed]",
      "text/plain": [
       "<Figure size 640x480 with 1 Axes>"
      ]
     },
     "metadata": {},
     "output_type": "display_data"
    }
   ],
   "source": [
    "# 5. Energy Distribution\n",
    "plt.subplot(3, 3, 5)\n",
    "plt.hist(df['energy_%'], bins=20, color='orange', alpha=0.7, edgecolor='black')\n",
    "plt.title('Energy Distribution')\n",
    "plt.xlabel('Energy %')\n",
    "plt.ylabel('Frequency')\n",
    "plt.grid(True, alpha=0.3)\n",
    "\n",
    "energy_mean = df['energy_%'].mean()\n",
    "energy_median = df['energy_%'].median()\n",
    "print(f\"\\nEnergy Statistics:\")\n",
    "print(f\"Mean: {energy_mean:.1f}%\")\n",
    "print(f\"Median: {energy_median:.1f}%\")\n"
   ]
  },
  {
   "cell_type": "code",
   "execution_count": 9,
   "id": "2a957c87-1ce6-4739-994f-1ca85c44adf6",
   "metadata": {},
   "outputs": [
    {
     "name": "stdout",
     "output_type": "stream",
     "text": [
      "\n",
      "Speechiness Statistics:\n",
      "Mean: 10.1%\n",
      "Median: 6.0%\n"
     ]
    },
    {
     "data": {
      "image/png": "[encoded data removed]",
      "text/plain": [
       "<Figure size 640x480 with 1 Axes>"
      ]
     },
     "metadata": {},
     "output_type": "display_data"
    }
   ],
   "source": [
    "# 6. Speechiness Distribution\n",
    "plt.subplot(3, 3, 6)\n",
    "plt.hist(df['speechiness_%'], bins=20, color='purple', alpha=0.7, edgecolor='black')\n",
    "plt.title('Speechiness Distribution')\n",
    "plt.xlabel('Speechiness %')\n",
    "plt.ylabel('Frequency')\n",
    "plt.grid(True, alpha=0.3)\n",
    "\n",
    "speech_mean = df['speechiness_%'].mean()\n",
    "speech_median = df['speechiness_%'].median()\n",
    "print(f\"\\nSpeechiness Statistics:\")\n",
    "print(f\"Mean: {speech_mean:.1f}%\")\n",
    "print(f\"Median: {speech_median:.1f}%\")"
   ]
  },
  {
   "cell_type": "code",
   "execution_count": 10,
   "id": "f40e81bb-3dbb-4014-8531-d27b13b81cf8",
   "metadata": {},
   "outputs": [
    {
     "name": "stdout",
     "output_type": "stream",
     "text": [
      "\n",
      "Acousticness Statistics:\n",
      "Mean: 27.1%\n",
      "Median: 18.0%\n"
     ]
    },
    {
     "data": {
      "image/png": "[encoded data removed]",
      "text/plain": [
       "<Figure size 640x480 with 1 Axes>"
      ]
     },
     "metadata": {},
     "output_type": "display_data"
    }
   ],
   "source": [
    "# 7. Acousticness Distribution\n",
    "plt.subplot(3, 3, 7)\n",
    "plt.hist(df['acousticness_%'], bins=20, color='brown', alpha=0.7, edgecolor='black')\n",
    "plt.title('Acousticness Distribution')\n",
    "plt.xlabel('Acousticness %')\n",
    "plt.ylabel('Frequency')\n",
    "plt.grid(True, alpha=0.3)\n",
    "\n",
    "acoustic_mean = df['acousticness_%'].mean()\n",
    "acoustic_median = df['acousticness_%'].median()\n",
    "print(f\"\\nAcousticness Statistics:\")\n",
    "print(f\"Mean: {acoustic_mean:.1f}%\")\n",
    "print(f\"Median: {acoustic_median:.1f}%\")"
   ]
  },
  {
   "cell_type": "code",
   "execution_count": 11,
   "id": "91d36d60-c297-43b1-95c2-bc623b885bc6",
   "metadata": {},
   "outputs": [
    {
     "data": {
      "text/plain": [
       "<Figure size 640x480 with 0 Axes>"
      ]
     },
     "metadata": {},
     "output_type": "display_data"
    }
   ],
   "source": [
    "plt.tight_layout()\n",
    "plt.show()"
   ]
  },
  {
   "cell_type": "code",
   "execution_count": 12,
   "id": "31e7d109-ed2f-4602-8288-f161734ec949",
   "metadata": {},
   "outputs": [
    {
     "name": "stdout",
     "output_type": "stream",
     "text": [
      "\n",
      "============================================================\n",
      "GUARANTEED SMASH HIT FORMULA\n",
      "============================================================\n"
     ]
    }
   ],
   "source": [
    "# =============================================================================\n",
    "# STEP 2: DETERMINE \"GUARANTEED HIT\" CRITERIA\n",
    "# =============================================================================\n",
    "\n",
    "print(\"\\n\" + \"=\"*60)\n",
    "print(\"GUARANTEED SMASH HIT FORMULA\")\n",
    "print(\"=\"*60)"
   ]
  },
  {
   "cell_type": "code",
   "execution_count": 13,
   "id": "510aafc9-b378-45c2-ba52-e16792713c75",
   "metadata": {},
   "outputs": [
    {
     "name": "stdout",
     "output_type": "stream",
     "text": [
      "Optimal BPM: 106-136\n",
      "Optimal Key: C#\n",
      "Optimal Mode: Major\n",
      "Optimal Danceability: 59-79%\n",
      "Optimal Energy: 56-76%\n",
      "Optimal Speechiness: ≤ 11%\n",
      "Optimal Acousticness: ≤ 28%\n"
     ]
    }
   ],
   "source": [
    "# Based on the most common/typical values, let's define our hit criteria\n",
    "hit_criteria = {\n",
    "    'bpm_min': bpm_median - 15,  # Range around median\n",
    "    'bpm_max': bpm_median + 15,\n",
    "    'key': most_common_key,      # Most common key\n",
    "    'mode': most_common_mode,    # Most common mode\n",
    "    'danceability_min': dance_median - 10,  # Range around median\n",
    "    'danceability_max': dance_median + 10,\n",
    "    'energy_min': energy_median - 10,  # Range around median\n",
    "    'energy_max': energy_median + 10,\n",
    "    'speechiness_max': speech_median + 5,  # Low speechiness (not too much rap)\n",
    "    'acousticness_max': acoustic_median + 10  # Not too acoustic\n",
    "}\n",
    "\n",
    "print(f\"Optimal BPM: {hit_criteria['bpm_min']:.0f}-{hit_criteria['bpm_max']:.0f}\")\n",
    "print(f\"Optimal Key: {hit_criteria['key']}\")\n",
    "print(f\"Optimal Mode: {hit_criteria['mode']}\")\n",
    "print(f\"Optimal Danceability: {hit_criteria['danceability_min']:.0f}-{hit_criteria['danceability_max']:.0f}%\")\n",
    "print(f\"Optimal Energy: {hit_criteria['energy_min']:.0f}-{hit_criteria['energy_max']:.0f}%\")\n",
    "print(f\"Optimal Speechiness: ≤ {hit_criteria['speechiness_max']:.0f}%\")\n",
    "print(f\"Optimal Acousticness: ≤ {hit_criteria['acousticness_max']:.0f}%\")"
   ]
  },
  {
   "cell_type": "code",
   "execution_count": 14,
   "id": "23286870-8e3e-43a1-a54e-70d371422c70",
   "metadata": {},
   "outputs": [
    {
     "name": "stdout",
     "output_type": "stream",
     "text": [
      "\n",
      "============================================================\n",
      "FINDING SONGS THAT MEET ALL CRITERIA\n",
      "============================================================\n"
     ]
    }
   ],
   "source": [
    "# =============================================================================\n",
    "# STEP 3: FIND SONGS THAT MEET ALL CRITERIA\n",
    "# =============================================================================\n",
    "\n",
    "print(\"\\n\" + \"=\"*60)\n",
    "print(\"FINDING SONGS THAT MEET ALL CRITERIA\")\n",
    "print(\"=\"*60)\n",
    "\n",
    "# Filter songs based on our criteria\n",
    "hit_songs = df[\n",
    "    (df['bpm'] >= hit_criteria['bpm_min']) & \n",
    "    (df['bpm'] <= hit_criteria['bpm_max']) &\n",
    "    (df['key'] == hit_criteria['key']) &\n",
    "    (df['mode'] == hit_criteria['mode']) &\n",
    "    (df['danceability_%'] >= hit_criteria['danceability_min']) &\n",
    "    (df['danceability_%'] <= hit_criteria['danceability_max']) &\n",
    "    (df['energy_%'] >= hit_criteria['energy_min']) &\n",
    "    (df['energy_%'] <= hit_criteria['energy_max']) &\n",
    "    (df['speechiness_%'] <= hit_criteria['speechiness_max']) &\n",
    "    (df['acousticness_%'] <= hit_criteria['acousticness_max'])\n",
    "]"
   ]
  },
  {
   "cell_type": "code",
   "execution_count": 15,
   "id": "699d4377-dbd4-4c07-8ba6-69397468eca5",
   "metadata": {},
   "outputs": [
    {
     "name": "stdout",
     "output_type": "stream",
     "text": [
      "Number of songs meeting all criteria: 4\n",
      "\n",
      "SONGS THAT MEET ALL CRITERIA:\n",
      "--------------------------------------------------\n",
      "Artist: Ruth B.\n",
      "Title: Dandelions\n",
      "Streams: 1116995633\n",
      "Released: 2017\n",
      "BPM: 117, Key: C#, Mode: Major\n",
      "Danceability: 61%, Energy: 69%\n",
      "Speechiness: 3%, Acousticness: 2%\n",
      "--------------------------------------------------\n",
      "Artist: Mï¿½ï¿½ne\n",
      "Title: I WANNA BE YOUR SLAVE\n",
      "Streams: 851070493\n",
      "Released: 2021\n",
      "BPM: 133, Key: C#, Mode: Major\n",
      "Danceability: 75%, Energy: 61%\n",
      "Speechiness: 4%, Acousticness: 0%\n",
      "--------------------------------------------------\n",
      "Artist: Yung Lean\n",
      "Title: Ginseng Strip 2002\n",
      "Streams: 240769997\n",
      "Released: 2013\n",
      "BPM: 115, Key: C#, Mode: Major\n",
      "Danceability: 60%, Energy: 71%\n",
      "Speechiness: 4%, Acousticness: 8%\n",
      "--------------------------------------------------\n",
      "Artist: Kendrick Lamar, Beyoncï¿\n",
      "Title: AMERICA HAS A PROBLEM (feat. Kendrick Lamar)\n",
      "Streams: 57089066\n",
      "Released: 2023\n",
      "BPM: 126, Key: C#, Mode: Major\n",
      "Danceability: 78%, Energy: 70%\n",
      "Speechiness: 4%, Acousticness: 1%\n",
      "--------------------------------------------------\n",
      "\n",
      "POPULARITY ANALYSIS:\n",
      "Average streams of 'hit formula' songs: 566,481,297\n",
      "Average streams of all songs: 514,137,425\n",
      "Number of 'formula' songs in top 10% by streams: 0\n"
     ]
    }
   ],
   "source": [
    "print(f\"Number of songs meeting all criteria: {len(hit_songs)}\")\n",
    "\n",
    "if len(hit_songs) > 0:\n",
    "    print(\"\\nSONGS THAT MEET ALL CRITERIA:\")\n",
    "    print(\"-\" * 50)\n",
    "    \n",
    "    # First, let's clean the streams column (remove commas, convert to numeric)\n",
    "    df['streams_clean'] = pd.to_numeric(df['streams'].astype(str).str.replace(',', ''), errors='coerce')\n",
    "    hit_songs = hit_songs.copy()\n",
    "    hit_songs['streams_clean'] = pd.to_numeric(hit_songs['streams'].astype(str).str.replace(',', ''), errors='coerce')\n",
    "    \n",
    "    # Sort by streams (popularity) - FIXED: removed na_last parameter\n",
    "    hit_songs_sorted = hit_songs.sort_values('streams_clean', ascending=False)\n",
    "    \n",
    "    for idx, song in hit_songs_sorted.iterrows():\n",
    "        print(f\"Artist: {song['artist(s)_name']}\")\n",
    "        print(f\"Title: {song['track_name']}\")\n",
    "        print(f\"Streams: {song['streams']}\")\n",
    "        print(f\"Released: {song['released_year']}\")\n",
    "        print(f\"BPM: {song['bpm']}, Key: {song['key']}, Mode: {song['mode']}\")\n",
    "        print(f\"Danceability: {song['danceability_%']}%, Energy: {song['energy_%']}%\")\n",
    "        print(f\"Speechiness: {song['speechiness_%']}%, Acousticness: {song['acousticness_%']}%\")\n",
    "        print(\"-\" * 50)\n",
    "    \n",
    "    # Check if any of these were actually popular\n",
    "    print(f\"\\nPOPULARITY ANALYSIS:\")\n",
    "    print(f\"Average streams of 'hit formula' songs: {hit_songs['streams_clean'].mean():,.0f}\")\n",
    "    print(f\"Average streams of all songs: {df['streams_clean'].mean():,.0f}\")\n",
    "    \n",
    "    # Check if our formula songs are in top percentiles\n",
    "    top_10_percent_threshold = df['streams_clean'].quantile(0.9)\n",
    "    formula_in_top_10 = hit_songs[hit_songs['streams_clean'] >= top_10_percent_threshold]\n",
    "    print(f\"Number of 'formula' songs in top 10% by streams: {len(formula_in_top_10)}\")\n",
    "    \n",
    "else:\n",
    "    print(\"No songs meet ALL criteria. Let's relax some constraints...\")\n",
    "    \n",
    "    # Try with relaxed criteria\n",
    "    relaxed_hit_songs = df[\n",
    "        (df['bpm'] >= hit_criteria['bmp_min']) & \n",
    "        (df['bpm'] <= hit_criteria['bpm_max']) &\n",
    "        (df['key'] == hit_criteria['key']) &\n",
    "        (df['mode'] == hit_criteria['mode'])\n",
    "    ]\n",
    "    \n",
    "    print(f\"Songs meeting basic criteria (BPM, Key, Mode): {len(relaxed_hit_songs)}\")\n",
    "    \n",
    "    if len(relaxed_hit_songs) > 0:\n",
    "        print(\"\\nTop 5 songs with basic criteria:\")\n",
    "        relaxed_sorted = relaxed_hit_songs.sort_values('streams_clean', ascending=False).head()\n",
    "        for idx, song in relaxed_sorted.iterrows():\n",
    "            print(f\"{song['artist(s)_name']} - {song['track_name']}\")\n"
   ]
  },
  {
   "cell_type": "code",
   "execution_count": 16,
   "id": "f7bceac0-ce21-4153-a8d3-4be1c4d1bebe",
   "metadata": {},
   "outputs": [
    {
     "name": "stdout",
     "output_type": "stream",
     "text": [
      "\n",
      "============================================================\n",
      "ANALYZING A KNOWN HIT SONG\n",
      "============================================================\n"
     ]
    }
   ],
   "source": [
    "# =============================================================================\n",
    "# STEP 4: ANALYZE A KNOWN HIT SONG\n",
    "# =============================================================================\n",
    "\n",
    "print(\"\\n\" + \"=\"*60)\n",
    "print(\"ANALYZING A KNOWN HIT SONG\")\n",
    "print(\"=\"*60)"
   ]
  },
  {
   "cell_type": "code",
   "execution_count": 17,
   "id": "3e8436aa-7203-410a-82c1-f1914c8bffcb",
   "metadata": {},
   "outputs": [
    {
     "name": "stdout",
     "output_type": "stream",
     "text": [
      "Most streamed song in dataset:\n",
      "Artist: The Weeknd\n",
      "Title: Blinding Lights\n",
      "Streams: 3703895074\n",
      "\n",
      "How it compares to our 'formula':\n",
      "BPM: 171 (our formula: 106-136)\n",
      "Key: C# (our formula: C#)\n",
      "Mode: Major (our formula: Major)\n",
      "Danceability: 50% (our formula: 59-79%)\n",
      "Energy: 80% (our formula: 56-76%)\n",
      "Speechiness: 7% (our formula: ≤11%)\n",
      "Acousticness: 0% (our formula: ≤28%)\n"
     ]
    }
   ],
   "source": [
    "# Let's find a very popular song and see how it compares to our formula\n",
    "most_streamed = df.loc[df['streams_clean'].idxmax()]\n",
    "\n",
    "print(\"Most streamed song in dataset:\")\n",
    "print(f\"Artist: {most_streamed['artist(s)_name']}\")\n",
    "print(f\"Title: {most_streamed['track_name']}\")\n",
    "print(f\"Streams: {most_streamed['streams']}\")\n",
    "print(\"\\nHow it compares to our 'formula':\")\n",
    "print(f\"BPM: {most_streamed['bpm']} (our formula: {hit_criteria['bpm_min']:.0f}-{hit_criteria['bpm_max']:.0f})\")\n",
    "print(f\"Key: {most_streamed['key']} (our formula: {hit_criteria['key']})\")\n",
    "print(f\"Mode: {most_streamed['mode']} (our formula: {hit_criteria['mode']})\")\n",
    "print(f\"Danceability: {most_streamed['danceability_%']}% (our formula: {hit_criteria['danceability_min']:.0f}-{hit_criteria['danceability_max']:.0f}%)\")\n",
    "print(f\"Energy: {most_streamed['energy_%']}% (our formula: {hit_criteria['energy_min']:.0f}-{hit_criteria['energy_max']:.0f}%)\")\n",
    "print(f\"Speechiness: {most_streamed['speechiness_%']}% (our formula: ≤{hit_criteria['speechiness_max']:.0f}%)\")\n",
    "print(f\"Acousticness: {most_streamed['acousticness_%']}% (our formula: ≤{hit_criteria['acousticness_max']:.0f}%)\")"
   ]
  },
  {
   "cell_type": "code",
   "execution_count": 18,
   "id": "dfe459ee-7b48-4469-9d3f-37f1b14bc86c",
   "metadata": {},
   "outputs": [
    {
     "name": "stdout",
     "output_type": "stream",
     "text": [
      "\n",
      "The most popular song meets 4/7 of our formula criteria.\n",
      "\n",
      "============================================================\n",
      "CONCLUSION\n",
      "============================================================\n",
      "The 'guaranteed hit formula' based on most common characteristics\n",
      "may not actually guarantee a hit! This suggests that:\n",
      "1. Musical success involves more than just common characteristics\n",
      "2. Uniqueness and creativity might be more important than following formulas\n",
      "3. Other factors like marketing, timing, and artist popularity matter\n",
      "4. Data-driven approaches have limitations in creative fields\n"
     ]
    }
   ],
   "source": [
    "# Check how many criteria the most popular song meets\n",
    "criteria_met = 0\n",
    "if hit_criteria['bpm_min'] <= most_streamed['bpm'] <= hit_criteria['bpm_max']:\n",
    "    criteria_met += 1\n",
    "if most_streamed['key'] == hit_criteria['key']:\n",
    "    criteria_met += 1\n",
    "if most_streamed['mode'] == hit_criteria['mode']:\n",
    "    criteria_met += 1\n",
    "if hit_criteria['danceability_min'] <= most_streamed['danceability_%'] <= hit_criteria['danceability_max']:\n",
    "    criteria_met += 1\n",
    "if hit_criteria['energy_min'] <= most_streamed['energy_%'] <= hit_criteria['energy_max']:\n",
    "    criteria_met += 1\n",
    "if most_streamed['speechiness_%'] <= hit_criteria['speechiness_max']:\n",
    "    criteria_met += 1\n",
    "if most_streamed['acousticness_%'] <= hit_criteria['acousticness_max']:\n",
    "    criteria_met += 1\n",
    "\n",
    "print(f\"\\nThe most popular song meets {criteria_met}/7 of our formula criteria.\")\n",
    "\n",
    "print(\"\\n\" + \"=\"*60)\n",
    "print(\"CONCLUSION\")\n",
    "print(\"=\"*60)\n",
    "print(\"The 'guaranteed hit formula' based on most common characteristics\")\n",
    "print(\"may not actually guarantee a hit! This suggests that:\")\n",
    "print(\"1. Musical success involves more than just common characteristics\")\n",
    "print(\"2. Uniqueness and creativity might be more important than following formulas\")\n",
    "print(\"3. Other factors like marketing, timing, and artist popularity matter\")\n",
    "print(\"4. Data-driven approaches have limitations in creative fields\")\n"
   ]
  },
  {
   "cell_type": "code",
   "execution_count": null,
   "id": "7b457870-5d9d-4bfc-b575-7b8b8871f612",
   "metadata": {},
   "outputs": [],
   "source": []
  }
 ],
 "metadata": {
  "kernelspec": {
   "display_name": "Python [conda env:base] *",
   "language": "python",
   "name": "conda-base-py"
  },
  "language_info": {
   "codemirror_mode": {
    "name": "ipython",
    "version": 3
   },
   "file_extension": ".py",
   "mimetype": "text/x-python",
   "name": "python",
   "nbconvert_exporter": "python",
   "pygments_lexer": "ipython3",
   "version": "3.13.5"
  }
 },
 "nbformat": 4,
 "nbformat_minor": 5
}
